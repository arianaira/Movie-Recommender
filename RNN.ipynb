{
 "cells": [
  {
   "cell_type": "code",
   "execution_count": 17,
   "metadata": {},
   "outputs": [],
   "source": [
    "import os\n",
    "\n",
    "os.environ['CUDA_LAUNCH_BLOCKING'] = '1'"
   ]
  },
  {
   "cell_type": "code",
   "execution_count": 18,
   "metadata": {},
   "outputs": [],
   "source": [
    "import torch\n",
    "import pandas as pd\n",
    "from torch import nn\n",
    "import torch.nn.functional as F\n",
    "from torch.utils.data import Dataset, DataLoader,random_split\n",
    "from tqdm.notebook import tqdm\n",
    "import matplotlib.pyplot as plt"
   ]
  },
  {
   "cell_type": "code",
   "execution_count": 19,
   "metadata": {},
   "outputs": [],
   "source": [
    "ratings = pd.read_csv(\"..\\\\ratings_small.csv\")"
   ]
  },
  {
   "cell_type": "code",
   "execution_count": 20,
   "metadata": {},
   "outputs": [],
   "source": [
    "num_usr, num_movies, num_ratings,_= ratings.max()\n",
    "num_usr = int(num_usr) + 1\n",
    "num_movies = int(num_movies) + 1"
   ]
  },
  {
   "cell_type": "code",
   "execution_count": 21,
   "metadata": {},
   "outputs": [],
   "source": [
    "lookback_window = 4\n",
    "user_ids = ratings.userId.unique()\n",
    "\n",
    "# List to hold individual tensors for each user\n",
    "user_tensors = []\n",
    "\n",
    "# Iterate over each user and create their individual tensors\n",
    "for user_id in user_ids:\n",
    "    # Select data for the current user\n",
    "    user_data = ratings[ratings['userId'] == user_id]\n",
    "    \n",
    "    # Sort the data based on the timestamp\n",
    "    sorted_data = user_data.sort_values('timestamp')\n",
    "    \n",
    "    # Convert the sorted data to a tensor\n",
    "    user_tensor = torch.stack([\n",
    "        torch.tensor(sorted_data['userId'].values),\n",
    "        torch.tensor(sorted_data['movieId'].values),\n",
    "        torch.tensor(sorted_data['rating'].values),\n",
    "        torch.tensor(sorted_data['timestamp'].values)\n",
    "    ]).T\n",
    "    \n",
    "    # Roll on the first dimension to create tensors of size [13, 4]\n",
    "    rolled_tensor = user_tensor.unfold(0, lookback_window, 1)\n",
    "    \n",
    "    # Append the rolled tensor to the list\n",
    "    user_tensors.append(rolled_tensor)\n",
    "\n",
    "dataset = torch.cat(user_tensors, dim=0).permute(0,2,1)"
   ]
  },
  {
   "cell_type": "code",
   "execution_count": 22,
   "metadata": {},
   "outputs": [],
   "source": [
    "dataset = dataset[:,:,1:-1] "
   ]
  },
  {
   "cell_type": "code",
   "execution_count": 23,
   "metadata": {},
   "outputs": [
    {
     "data": {
      "text/plain": [
       "torch.Size([97991, 4, 2])"
      ]
     },
     "execution_count": 23,
     "metadata": {},
     "output_type": "execute_result"
    }
   ],
   "source": [
    "dataset.shape      # movieId , rating"
   ]
  },
  {
   "cell_type": "code",
   "execution_count": 24,
   "metadata": {},
   "outputs": [],
   "source": [
    "def learning(model, data_loader, loss_module, optimizer, num_epochs, device):\n",
    "    model.train()\n",
    "    t_losses = []\n",
    "\n",
    "    pbar = tqdm(range(num_epochs))\n",
    "    for epoch in pbar:\n",
    "        losses = 0\n",
    "        for (data_inp, data_token, data_rating) in data_loader:\n",
    "            data_inp = data_inp.to(device).to(torch.int64)\n",
    "            data_token = data_token.to(device).to(torch.int64)\n",
    "            data_rating = data_rating.to(device).to(torch.float32)\n",
    "\n",
    "\n",
    "            optimizer.zero_grad()\n",
    "            \n",
    "            preds = model(data_inp, data_token)\n",
    "\n",
    "\n",
    "            loss = loss_module(preds, data_rating)\n",
    "\n",
    "            loss.backward()\n",
    "            optimizer.step()\n",
    "            losses += loss.item()\n",
    "        e = losses/len(data_loader)\n",
    "        t_losses.append(e)\n",
    "        pbar.set_description(f\"Epoch {epoch+1} the training loss is : {e}\")\n",
    "    return model, t_losses\n",
    "\n",
    "@torch.no_grad()\n",
    "def eval_model(model, loss_module, data_loader, device):\n",
    "    model.eval() # Set model to eval mode\n",
    "    losses = []\n",
    "    losse=0\n",
    "    for (data_inp, data_token, data_rating) in data_loader:\n",
    "        data_inp = data_inp.to(device).to(torch.int64)\n",
    "        data_token = data_token.to(device).to(torch.int64)\n",
    "        data_rating = data_rating.to(device).to(torch.float32)\n",
    "\n",
    "\n",
    "\n",
    "        # Determine prediction of model on dev set\n",
    "        preds = model(data_inp, data_token)\n",
    "        loss = loss_module(preds, preds)\n",
    "        losses.append(loss.item())\n",
    "        losse += loss.item()\n",
    "            \n",
    "    return losses ,losse/len(data_loader)\n"
   ]
  },
  {
   "cell_type": "code",
   "execution_count": 25,
   "metadata": {},
   "outputs": [],
   "source": [
    "\n",
    "class Encoder(nn.Module):\n",
    "    def __init__(self, embedd_size, embedding_size, hidden_size, num_layers=2, p=0.5):\n",
    "        super(Encoder, self).__init__()\n",
    "        self.dropout = nn.Dropout(p)\n",
    "        self.hidden_size = hidden_size\n",
    "        self.num_layers = num_layers\n",
    "        \n",
    "        self.lin = nn.Linear(1, embedding_size)\n",
    "\n",
    "        self.embedding = nn.Embedding(embedd_size, embedding_size)\n",
    "        self.rnn = nn.GRU(2*embedding_size, hidden_size, num_layers, dropout=p)\n",
    "        self.relu = nn.ReLU()\n",
    "\n",
    "    def forward(self, x):\n",
    "        # x shape: (seq_length, N, 2) where N is batch size\n",
    "\n",
    "        rate = self.dropout(self.relu(self.lin(x[:,:,1].unsqueeze(-1).to(torch.float32))))\n",
    "        embedding = self.dropout(self.embedding(x[:,:,0]))\n",
    "        # embedding shape: (seq_length, N, embedding_size)\n",
    "\n",
    "        _, hidden = self.rnn(torch.cat([rate, embedding], dim=-1))\n",
    "        # outputs shape: (seq_length, N, hidden_size)\n",
    "\n",
    "        return hidden\n",
    "\n",
    "\n",
    "class Decoder(nn.Module):\n",
    "    def __init__(\n",
    "        self, embedd_size, embedding_size, hidden_size, output_size, num_layers=2, p=0.5\n",
    "    ):\n",
    "        super(Decoder, self).__init__()\n",
    "        self.dropout = nn.Dropout(p)\n",
    "        self.hidden_size = hidden_size\n",
    "        self.num_layers = num_layers\n",
    "\n",
    "        self.embedding = nn.Embedding(embedd_size, embedding_size)\n",
    "        self.lin = nn.Linear(embedding_size, embedding_size)\n",
    "        self.rnn = nn.GRU(embedding_size, hidden_size, num_layers, dropout=p)\n",
    "        self.fc = nn.Linear(hidden_size, output_size)\n",
    "        self.relu = nn.ReLU()\n",
    "\n",
    "    def forward(self, x, hidden):\n",
    "        # x shape: (N) where N is for batch size, we want it to be (1, N), seq_length\n",
    "        x = x.unsqueeze(0).to(torch.int)\n",
    "        \n",
    "    \n",
    "        embedding = self.dropout(self.embedding(x))\n",
    "        \n",
    "        # embedding shape: (1, N, embedding_size)\n",
    "        embedding = self.relu(self.dropout(self.lin(embedding)))\n",
    "\n",
    "        outputs, hidden = self.rnn(embedding, hidden)\n",
    "        # outputs shape: (1, N, hidden_size)\n",
    "\n",
    "        predictions = self.relu(self.fc(outputs))\n",
    "\n",
    "        # predictions shape: (1, N, 1) to send it to\n",
    "        # just gonna remove the first dim\n",
    "        predictions = predictions.squeeze(0).squeeze(-1)\n",
    "\n",
    "        return predictions, hidden\n",
    "\n",
    "\n",
    "class RecSys(nn.Module):\n",
    "    def __init__(self, num_items, embedding_size, hidden_size, num_layers, device, p=0.5):\n",
    "        super(RecSys, self).__init__()\n",
    "\n",
    "        self.encoder = Encoder(num_items, embedding_size, hidden_size, num_layers, p)\n",
    "        self.decoder = Decoder(num_items, embedding_size, hidden_size, 1, num_layers, p)\n",
    "        self.device = device\n",
    "        self.to(device)\n",
    "\n",
    "    def forward(self, source, decode_token): # source : <B, S, 2> , decode_token: <B>\n",
    "        hidden = self.encoder(source.permute((1,0,2)))\n",
    "\n",
    "        # Grab the first input to the Decoder which will be <SOS> token\n",
    "        x = decode_token\n",
    "        \n",
    "        # Use previous hidden, cell as context from encoder at start\n",
    "        output, _ = self.decoder(x, hidden)\n",
    "\n",
    "        return output"
   ]
  },
  {
   "cell_type": "code",
   "execution_count": 26,
   "metadata": {},
   "outputs": [],
   "source": [
    "class RecSys_ds(Dataset):\n",
    "    def __init__(self, data, lookback_window) :\n",
    "        super().__init__()\n",
    "        self.data = data\n",
    "        self.lookback_window = lookback_window\n",
    "\n",
    "    def __len__(self):\n",
    "        return self.data.shape[0]\n",
    "\n",
    "    def __getitem__(self, idx):\n",
    "        x = self.data[idx,:self.lookback_window - 1] # <‌B, window - 1, 2>\n",
    "        d_tok = self.data[idx, self.lookback_window - 1, 0] # <B, 1>\n",
    "        y = self.data[idx, self.lookback_window - 1, 1] # <B , 1>\n",
    "        return (x, d_tok, y)"
   ]
  },
  {
   "cell_type": "code",
   "execution_count": 27,
   "metadata": {},
   "outputs": [
    {
     "data": {
      "text/plain": [
       "device(type='cuda')"
      ]
     },
     "execution_count": 27,
     "metadata": {},
     "output_type": "execute_result"
    }
   ],
   "source": [
    "device = torch.device(\"cuda\" if torch.cuda.is_available() else \"cpu\")\n",
    "device"
   ]
  },
  {
   "cell_type": "code",
   "execution_count": 28,
   "metadata": {},
   "outputs": [],
   "source": [
    "model = RecSys(num_movies, 128, 256, 3, device)"
   ]
  },
  {
   "cell_type": "code",
   "execution_count": 29,
   "metadata": {},
   "outputs": [],
   "source": [
    "recsys_ds = RecSys_ds(dataset, lookback_window)"
   ]
  },
  {
   "cell_type": "code",
   "execution_count": 30,
   "metadata": {},
   "outputs": [],
   "source": [
    "batch_size = 64\n",
    "train_ratio = 0.8\n",
    "test_ratio = 1 - train_ratio\n",
    "\n",
    "# Calculate the number of samples for each split\n",
    "train_size = int(len(dataset) * train_ratio)\n",
    "test_size = len(dataset) - train_size\n",
    "\n",
    "\n",
    "# Perform the train-test split\n",
    "train_dataset, test_dataset = random_split(recsys_ds, [train_size, test_size])\n",
    "\n",
    "# Create data loaders for training and testing sets\n",
    "train_loader = DataLoader(train_dataset, batch_size=batch_size, shuffle=True)\n",
    "test_loader = DataLoader(test_dataset, batch_size=batch_size, shuffle=False)\n"
   ]
  },
  {
   "cell_type": "code",
   "execution_count": 31,
   "metadata": {},
   "outputs": [],
   "source": [
    "num_epochs = 50\n",
    "lr=0.001\n",
    "optimizer = torch.optim.AdamW(model.parameters(), lr=lr)\n",
    "lossModule = nn.MSELoss()"
   ]
  },
  {
   "cell_type": "code",
   "execution_count": 32,
   "metadata": {},
   "outputs": [
    {
     "data": {
      "application/vnd.jupyter.widget-view+json": {
       "model_id": "19b0bf248c0d40ca93489d8680358a84",
       "version_major": 2,
       "version_minor": 0
      },
      "text/plain": [
       "  0%|          | 0/50 [00:00<?, ?it/s]"
      ]
     },
     "metadata": {},
     "output_type": "display_data"
    }
   ],
   "source": [
    "model, t_losses = learning(model, train_loader, lossModule, optimizer, num_epochs, device)"
   ]
  },
  {
   "cell_type": "code",
   "execution_count": 33,
   "metadata": {},
   "outputs": [
    {
     "data": {
      "text/plain": [
       "[<matplotlib.lines.Line2D at 0x1fc17ccdbd0>]"
      ]
     },
     "execution_count": 33,
     "metadata": {},
     "output_type": "execute_result"
    },
    {
     "data": {
      "image/png": "[encoded data removed]",
      "text/plain": [
       "<Figure size 640x480 with 1 Axes>"
      ]
     },
     "metadata": {},
     "output_type": "display_data"
    }
   ],
   "source": [
    "plt.plot(t_losses)"
   ]
  },
  {
   "cell_type": "code",
   "execution_count": 37,
   "metadata": {},
   "outputs": [],
   "source": [
    "losses, loss = eval_model(model, lossModule, test_loader, device)"
   ]
  },
  {
   "cell_type": "code",
   "execution_count": 40,
   "metadata": {},
   "outputs": [
    {
     "data": {
      "text/plain": [
       "0.0"
      ]
     },
     "execution_count": 40,
     "metadata": {},
     "output_type": "execute_result"
    }
   ],
   "source": [
    "loss"
   ]
  },
  {
   "cell_type": "code",
   "execution_count": 44,
   "metadata": {},
   "outputs": [],
   "source": [
    "import numpy as np\n",
    "usr_hist = np.array([\n",
    "    [23,3],\n",
    "    [10,5],\n",
    "    [22,8],\n",
    "])"
   ]
  },
  {
   "cell_type": "code",
   "execution_count": 45,
   "metadata": {},
   "outputs": [
    {
     "data": {
      "text/plain": [
       "(3, 2)"
      ]
     },
     "execution_count": 45,
     "metadata": {},
     "output_type": "execute_result"
    }
   ],
   "source": [
    "usr_hist.shape"
   ]
  },
  {
   "cell_type": "code",
   "execution_count": null,
   "metadata": {},
   "outputs": [],
   "source": []
  }
 ],
 "metadata": {
  "kernelspec": {
   "display_name": "pytorch",
   "language": "python",
   "name": "python3"
  },
  "language_info": {
   "codemirror_mode": {
    "name": "ipython",
    "version": 3
   },
   "file_extension": ".py",
   "mimetype": "text/x-python",
   "name": "python",
   "nbconvert_exporter": "python",
   "pygments_lexer": "ipython3",
   "version": "3.10.5"
  },
  "orig_nbformat": 4
 },
 "nbformat": 4,
 "nbformat_minor": 2
}
